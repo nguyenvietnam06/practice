{
  "nbformat": 4,
  "nbformat_minor": 0,
  "metadata": {
    "colab": {
      "provenance": []
    },
    "kernelspec": {
      "name": "python3",
      "display_name": "Python 3"
    },
    "language_info": {
      "name": "python"
    }
  },
  "cells": [
    {
      "cell_type": "code",
      "source": [
        "import os\n",
        "import shutil\n",
        "\n",
        "src_dir = '/content/food_data/food'\n",
        "\n",
        "# Duyệt từng file trong thư mục food\n",
        "for file in os.listdir(src_dir):\n",
        "    if file.lower().endswith(('.jpg', '.jpeg', '.png')):\n",
        "        name = file.lower()\n",
        "\n",
        "        # Gán class dựa vào tên\n",
        "        if 'phở' in name or 'pho' in name:\n",
        "            label = 'pho'\n",
        "        elif 'bánh mì' in name or 'banh mi' in name:\n",
        "            label = 'banh_mi'\n",
        "        elif 'bún bò' in name or 'bun bo' in name:\n",
        "            label = 'bun_bo'\n",
        "        elif 'cơm tấm' in name or 'com tam' in name:\n",
        "            label = 'com_tam'\n",
        "        elif 'bún chả' in name or 'bun cha' in name:\n",
        "            label = 'bun_cha'\n",
        "        else:\n",
        "            continue  # bỏ qua ảnh không xác định\n",
        "\n",
        "        # Tạo thư mục nếu chưa có\n",
        "        label_dir = os.path.join(src_dir, label)\n",
        "        os.makedirs(label_dir, exist_ok=True)\n",
        "\n",
        "        # Di chuyển ảnh vào thư mục class tương ứng\n",
        "        shutil.move(os.path.join(src_dir, file), os.path.join(label_dir, file))\n",
        "\n",
        "print(\"✅ Đã sắp xếp lại ảnh vào các folder.\")\n"
      ],
      "metadata": {
        "colab": {
          "base_uri": "https://localhost:8080/"
        },
        "id": "tI5Z9o3uLvXH",
        "outputId": "365b8653-5f53-4c0f-84b8-b70e86206ea6"
      },
      "execution_count": null,
      "outputs": [
        {
          "output_type": "stream",
          "name": "stdout",
          "text": [
            "✅ Đã sắp xếp lại ảnh vào các folder.\n"
          ]
        }
      ]
    },
    {
      "cell_type": "code",
      "source": [
        "for root, dirs, files in os.walk(src_dir):\n",
        "    print(f\"[DIR] {root}\")\n",
        "    for f in files[:3]:\n",
        "        print(f\"  - {f}\")\n"
      ],
      "metadata": {
        "colab": {
          "base_uri": "https://localhost:8080/"
        },
        "id": "6_iLWZyWLyZc",
        "outputId": "7110def5-2090-46af-b808-042f0796d0e9"
      },
      "execution_count": null,
      "outputs": [
        {
          "output_type": "stream",
          "name": "stdout",
          "text": [
            "[DIR] /content/food_data/food\n",
            "  - bánh xèo_1.jpg\n",
            "  - bánh xèo_4(1).jpg\n",
            "  - bánh xèo_(1).jpg\n",
            "[DIR] /content/food_data/food/com_tam\n",
            "  - cơm tấm_3 .jpg\n",
            "  - cơm tấm_(1).jpg\n",
            "  - cơm tấm_5.jpg\n",
            "[DIR] /content/food_data/food/bun_bo\n",
            "  - bún bò_.jpg\n",
            "  - bún bò_1 .jpg\n",
            "  - bún bò_(1).jpg\n",
            "[DIR] /content/food_data/food/banh_mi\n",
            "  - bánh mì_3.jpg\n",
            "  - bánh mì_4.jpg\n",
            "  - bánh mì_5 .jpg\n",
            "[DIR] /content/food_data/food/pho\n",
            "  - phở_1(1).jpg\n",
            "  - phở_3 .jpg\n",
            "  - phở_3.jpg\n"
          ]
        }
      ]
    },
    {
      "cell_type": "code",
      "source": [
        "# 1. Tải & giải nén file\n",
        "import zipfile\n",
        "import os\n",
        "\n",
        "zip_path = '/content/food-20250414T111345Z-001.zip'\n",
        "extract_path = '/content/food_data'\n",
        "\n",
        "with zipfile.ZipFile(zip_path, 'r') as zip_ref:\n",
        "    zip_ref.extractall(extract_path)\n",
        "\n",
        "# 2. Kiểm tra cấu trúc thư mục sau khi giải nén\n",
        "for root, dirs, files in os.walk(extract_path):\n",
        "    print(f\"[DIR] {root}\")\n",
        "    for f in files[:3]:\n",
        "        print(f\"  - {f}\")\n",
        "\n",
        "# 3. Đặt đường dẫn chính xác tới folder chứa các class (món ăn)\n",
        "data_dir = os.path.join(extract_path, 'food')  # thư mục food nằm trong folder giải nén\n",
        "\n",
        "# 4. Tạo generator\n",
        "from tensorflow.keras.preprocessing.image import ImageDataGenerator\n",
        "\n",
        "img_size = (128, 128)\n",
        "batch_size = 32\n",
        "\n",
        "datagen = ImageDataGenerator(rescale=1./255, validation_split=0.2)\n",
        "\n",
        "train_gen = datagen.flow_from_directory(\n",
        "    data_dir,\n",
        "    target_size=img_size,\n",
        "    batch_size=batch_size,\n",
        "    class_mode='categorical',\n",
        "    subset='training'\n",
        ")\n",
        "\n",
        "val_gen = datagen.flow_from_directory(\n",
        "    data_dir,\n",
        "    target_size=img_size,\n",
        "    batch_size=batch_size,\n",
        "    class_mode='categorical',\n",
        "    subset='validation'\n",
        ")\n",
        "\n",
        "# 5. Xây model CNN đơn giản\n",
        "from tensorflow.keras.models import Sequential\n",
        "from tensorflow.keras.layers import Conv2D, MaxPooling2D, Flatten, Dense, Dropout\n",
        "\n",
        "num_classes = len(train_gen.class_indices)\n",
        "\n",
        "model = Sequential([\n",
        "    Conv2D(32, (3,3), activation='relu', input_shape=(img_size[0], img_size[1], 3)),\n",
        "    MaxPooling2D(2,2),\n",
        "    Conv2D(64, (3,3), activation='relu'),\n",
        "    MaxPooling2D(2,2),\n",
        "    Flatten(),\n",
        "    Dense(128, activation='relu'),\n",
        "    Dropout(0.5),\n",
        "    Dense(num_classes, activation='softmax')\n",
        "])\n",
        "\n",
        "# 6. Compile & train\n",
        "model.compile(optimizer='adam', loss='categorical_crossentropy', metrics=['accuracy'])\n",
        "\n",
        "model.fit(\n",
        "    train_gen,\n",
        "    validation_data=val_gen,\n",
        "    epochs=10\n",
        ")\n",
        "\n",
        "# 7. Lưu model\n",
        "model.save(\"vietnamese_food_model.h5\")\n"
      ],
      "metadata": {
        "colab": {
          "base_uri": "https://localhost:8080/"
        },
        "id": "bFieU_olL3Q6",
        "outputId": "4d6dd76e-3221-4d94-901f-536aa9c98cb0"
      },
      "execution_count": null,
      "outputs": [
        {
          "output_type": "stream",
          "name": "stdout",
          "text": [
            "[DIR] /content/food_data\n",
            "[DIR] /content/food_data/food\n",
            "  - bánh mì_3.jpg\n",
            "  - bánh mì_4.jpg\n",
            "  - phở_1(1).jpg\n",
            "[DIR] /content/food_data/food/com_tam\n",
            "  - cơm tấm_3 .jpg\n",
            "  - cơm tấm_(1).jpg\n",
            "  - cơm tấm_5.jpg\n",
            "[DIR] /content/food_data/food/bun_bo\n",
            "  - bún bò_.jpg\n",
            "  - bún bò_1 .jpg\n",
            "  - bún bò_(1).jpg\n",
            "[DIR] /content/food_data/food/banh_mi\n",
            "  - bánh mì_3.jpg\n",
            "  - bánh mì_4.jpg\n",
            "  - bánh mì_5 .jpg\n",
            "[DIR] /content/food_data/food/pho\n",
            "  - phở_1(1).jpg\n",
            "  - phở_3 .jpg\n",
            "  - phở_3.jpg\n",
            "Found 38 images belonging to 4 classes.\n",
            "Found 8 images belonging to 4 classes.\n",
            "Epoch 1/10\n",
            "\u001b[1m2/2\u001b[0m \u001b[32m━━━━━━━━━━━━━━━━━━━━\u001b[0m\u001b[37m\u001b[0m \u001b[1m4s\u001b[0m 1s/step - accuracy: 0.1608 - loss: 6.1086 - val_accuracy: 0.2500 - val_loss: 5.3074\n",
            "Epoch 2/10\n",
            "\u001b[1m2/2\u001b[0m \u001b[32m━━━━━━━━━━━━━━━━━━━━\u001b[0m\u001b[37m\u001b[0m \u001b[1m1s\u001b[0m 917ms/step - accuracy: 0.1608 - loss: 3.5545 - val_accuracy: 0.2500 - val_loss: 1.5579\n",
            "Epoch 3/10\n",
            "\u001b[1m2/2\u001b[0m \u001b[32m━━━━━━━━━━━━━━━━━━━━\u001b[0m\u001b[37m\u001b[0m \u001b[1m1s\u001b[0m 849ms/step - accuracy: 0.2661 - loss: 2.1070 - val_accuracy: 0.2500 - val_loss: 1.5187\n",
            "Epoch 4/10\n",
            "\u001b[1m2/2\u001b[0m \u001b[32m━━━━━━━━━━━━━━━━━━━━\u001b[0m\u001b[37m\u001b[0m \u001b[1m1s\u001b[0m 912ms/step - accuracy: 0.3216 - loss: 1.4549 - val_accuracy: 0.2500 - val_loss: 1.3728\n",
            "Epoch 5/10\n",
            "\u001b[1m2/2\u001b[0m \u001b[32m━━━━━━━━━━━━━━━━━━━━\u001b[0m\u001b[37m\u001b[0m \u001b[1m1s\u001b[0m 819ms/step - accuracy: 0.4620 - loss: 1.1979 - val_accuracy: 0.2500 - val_loss: 1.3800\n",
            "Epoch 6/10\n",
            "\u001b[1m2/2\u001b[0m \u001b[32m━━━━━━━━━━━━━━━━━━━━\u001b[0m\u001b[37m\u001b[0m \u001b[1m1s\u001b[0m 325ms/step - accuracy: 0.6502 - loss: 1.1286 - val_accuracy: 0.2500 - val_loss: 1.3888\n",
            "Epoch 7/10\n",
            "\u001b[1m2/2\u001b[0m \u001b[32m━━━━━━━━━━━━━━━━━━━━\u001b[0m\u001b[37m\u001b[0m \u001b[1m1s\u001b[0m 815ms/step - accuracy: 0.6082 - loss: 1.0402 - val_accuracy: 0.3750 - val_loss: 1.3053\n",
            "Epoch 8/10\n",
            "\u001b[1m2/2\u001b[0m \u001b[32m━━━━━━━━━━━━━━━━━━━━\u001b[0m\u001b[37m\u001b[0m \u001b[1m1s\u001b[0m 1s/step - accuracy: 0.8216 - loss: 0.8573 - val_accuracy: 0.3750 - val_loss: 1.3025\n",
            "Epoch 9/10\n",
            "\u001b[1m2/2\u001b[0m \u001b[32m━━━━━━━━━━━━━━━━━━━━\u001b[0m\u001b[37m\u001b[0m \u001b[1m2s\u001b[0m 1s/step - accuracy: 0.8567 - loss: 0.7353 - val_accuracy: 0.3750 - val_loss: 1.2829\n",
            "Epoch 10/10\n",
            "\u001b[1m2/2\u001b[0m \u001b[32m━━━━━━━━━━━━━━━━━━━━\u001b[0m\u001b[37m\u001b[0m \u001b[1m2s\u001b[0m 1s/step - accuracy: 0.7135 - loss: 0.7753 - val_accuracy: 0.2500 - val_loss: 1.2648\n"
          ]
        },
        {
          "output_type": "stream",
          "name": "stderr",
          "text": [
            "WARNING:absl:You are saving your model as an HDF5 file via `model.save()` or `keras.saving.save_model(model)`. This file format is considered legacy. We recommend using instead the native Keras format, e.g. `model.save('my_model.keras')` or `keras.saving.save_model(model, 'my_model.keras')`. \n"
          ]
        }
      ]
    },
    {
      "cell_type": "code",
      "source": [
        "from tensorflow.keras.models import load_model\n",
        "from tensorflow.keras.preprocessing import image\n",
        "import numpy as np\n",
        "\n",
        "# 1. Tải lại model đã lưu\n",
        "model = load_model(\"vietnamese_food_model.h5\")\n",
        "\n",
        "# 2. Đọc ảnh mới và chuẩn bị cho việc dự đoán\n",
        "img_path = '/content/maxresdefault.jpg'  # Đặt đường dẫn đến ảnh cần thử\n",
        "img = image.load_img(img_path, target_size=img_size)\n",
        "img_array = image.img_to_array(img)  # Chuyển ảnh thành mảng numpy\n",
        "img_array = np.expand_dims(img_array, axis=0)  # Thêm chiều batch\n",
        "\n",
        "# 3. Tiền xử lý ảnh (giống như khi training)\n",
        "img_array /= 255.0  # Rescale ảnh giống như đã làm trong ImageDataGenerator\n",
        "\n",
        "# 4. Dự đoán và in kết quả\n",
        "pred = model.predict(img_array)\n",
        "predicted_class = np.argmax(pred, axis=1)  # Nhận lớp có xác suất cao nhất\n",
        "\n",
        "# In ra tên của món ăn dự đoán\n",
        "class_names = list(train_gen.class_indices.keys())\n",
        "predicted_class_name = class_names[predicted_class[0]]\n",
        "print(f\"Dự đoán món ăn: {predicted_class_name}\")\n"
      ],
      "metadata": {
        "id": "a5r_UWF_RPvj",
        "outputId": "95bd1f81-24f6-4fef-b84c-0c32e2b7f5b7",
        "colab": {
          "base_uri": "https://localhost:8080/"
        }
      },
      "execution_count": null,
      "outputs": [
        {
          "output_type": "stream",
          "name": "stderr",
          "text": [
            "WARNING:absl:Compiled the loaded model, but the compiled metrics have yet to be built. `model.compile_metrics` will be empty until you train or evaluate the model.\n",
            "WARNING:tensorflow:5 out of the last 6 calls to <function TensorFlowTrainer.make_predict_function.<locals>.one_step_on_data_distributed at 0x7f873e532160> triggered tf.function retracing. Tracing is expensive and the excessive number of tracings could be due to (1) creating @tf.function repeatedly in a loop, (2) passing tensors with different shapes, (3) passing Python objects instead of tensors. For (1), please define your @tf.function outside of the loop. For (2), @tf.function has reduce_retracing=True option that can avoid unnecessary retracing. For (3), please refer to https://www.tensorflow.org/guide/function#controlling_retracing and https://www.tensorflow.org/api_docs/python/tf/function for  more details.\n"
          ]
        },
        {
          "output_type": "stream",
          "name": "stdout",
          "text": [
            "\u001b[1m1/1\u001b[0m \u001b[32m━━━━━━━━━━━━━━━━━━━━\u001b[0m\u001b[37m\u001b[0m \u001b[1m0s\u001b[0m 118ms/step\n",
            "Dự đoán món ăn: com_tam\n"
          ]
        }
      ]
    }
  ]
}