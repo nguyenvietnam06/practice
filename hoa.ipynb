{
  "nbformat": 4,
  "nbformat_minor": 0,
  "metadata": {
    "colab": {
      "provenance": [],
      "gpuType": "T4"
    },
    "kernelspec": {
      "name": "python3",
      "display_name": "Python 3"
    },
    "language_info": {
      "name": "python"
    },
    "accelerator": "GPU"
  },
  "cells": [
    {
      "cell_type": "code",
      "execution_count": null,
      "metadata": {
        "id": "WVS_2jU30tVE"
      },
      "outputs": [],
      "source": [
        "import numpy as np\n",
        "import tensorflow as tf\n",
        "import cv2\n",
        "import os\n",
        "from PIL import Image\n",
        "from tensorflow.keras.models import Sequential\n",
        "from tensorflow.keras.layers import Conv2D, MaxPooling2D, Flatten, Dense, Dropout, BatchNormalization, Input\n",
        "from tensorflow.keras.preprocessing.image import ImageDataGenerator\n",
        "from sklearn.model_selection import train_test_split\n",
        "from tensorflow.keras.utils import to_categorical"
      ]
    },
    {
      "cell_type": "code",
      "source": [
        "data = \"/content/drive/MyDrive/hoa/hoa\"\n",
        "images = []\n",
        "labels = []\n",
        "class_id = 0\n",
        "label_map = {}\n",
        "for image_name in os.listdir(data):\n",
        "    image_path = os.path.join(data, image_name)\n",
        "    image = Image.open(image_path).convert('RGB')\n",
        "    image = image.resize((128, 128)) # Tăng kích thước ảnh\n",
        "    image = np.array(image)\n",
        "\n",
        "    images.append(image)\n",
        "    if image_name.split('_')[0] not in label_map:\n",
        "      label_map[image_name.split('_')[0]] = class_id\n",
        "      class_id += 1\n",
        "\n",
        "    label = label_map[image_name.split('_')[0]]\n",
        "    labels.append(label)\n",
        "images = np.array(images)\n",
        "labels = np.array(labels)\n",
        "print(label_map)"
      ],
      "metadata": {
        "colab": {
          "base_uri": "https://localhost:8080/"
        },
        "id": "iuym3gox3XLA",
        "outputId": "8027cd34-7781-4928-fbe5-071faac8f4c2"
      },
      "execution_count": null,
      "outputs": [
        {
          "output_type": "stream",
          "name": "stdout",
          "text": [
            "{'hoa hue': 0, 'hoa tulip': 1, 'hoa sen': 2, 'hoa ly': 3, 'hoa hong': 4, 'hoa cuc': 5}\n"
          ]
        }
      ]
    },
    {
      "cell_type": "code",
      "source": [
        "# Chuẩn hóa giá trị pixel\n",
        "images = images.astype('float32') / 255.0\n",
        "\n",
        "# Chia dữ liệu thành tập huấn luyện và tập kiểm tra\n",
        "X_train, X_test, y_train, y_test = train_test_split(images, labels, test_size=0.2, random_state=42)\n",
        "\n",
        "# Mã hóa nhãn bằng one-hot encoding\n",
        "num_classes = len(np.unique(labels))\n",
        "y_train = to_categorical(y_train, num_classes)\n",
        "y_test = to_categorical(y_test, num_classes)"
      ],
      "metadata": {
        "id": "Zo7dpGJRkI17"
      },
      "execution_count": null,
      "outputs": []
    },
    {
      "cell_type": "code",
      "source": [
        "model = Sequential([\n",
        "    Input(shape=(128, 128, 3)),  # ✅ Đổi input thành (128, 128, 3)\n",
        "\n",
        "    Conv2D(32, (3, 3), activation='relu', padding='same'),\n",
        "    BatchNormalization(),\n",
        "    Conv2D(64, (3, 3), activation='relu', padding='same'),\n",
        "    BatchNormalization(),\n",
        "    Conv2D(64, (3, 3), activation='relu', padding='same'),\n",
        "    MaxPooling2D((2, 2)),\n",
        "    Dropout(0.3),\n",
        "\n",
        "    Conv2D(128, (3, 3), activation='relu', padding='same'),\n",
        "    BatchNormalization(),\n",
        "    Conv2D(128, (3, 3), activation='relu', padding='same'),\n",
        "    MaxPooling2D((2, 2)),\n",
        "    Dropout(0.4),\n",
        "\n",
        "    Flatten(),\n",
        "    Dense(256, activation='relu'),\n",
        "    Dropout(0.5),\n",
        "    Dense(6, activation='softmax')  # ✅ Khớp với y_train có (67, 6)\n",
        "])\n"
      ],
      "metadata": {
        "id": "yOQ0eeRB3lrw"
      },
      "execution_count": null,
      "outputs": []
    },
    {
      "cell_type": "code",
      "source": [
        "model.compile(optimizer='adam', loss='categorical_crossentropy', metrics=['accuracy'])\n",
        "model.fit(X_train, y_train, epochs=100,validation_data=(X_test, y_test))"
      ],
      "metadata": {
        "colab": {
          "base_uri": "https://localhost:8080/"
        },
        "id": "vVVgSy5X_fDY",
        "outputId": "888be606-a57f-4f6a-a721-5a2174bf84a0"
      },
      "execution_count": null,
      "outputs": [
        {
          "output_type": "stream",
          "name": "stdout",
          "text": [
            "Epoch 1/100\n",
            "\u001b[1m3/3\u001b[0m \u001b[32m━━━━━━━━━━━━━━━━━━━━\u001b[0m\u001b[37m\u001b[0m \u001b[1m36s\u001b[0m 9s/step - accuracy: 0.1719 - loss: 87.6254 - val_accuracy: 0.3529 - val_loss: 2.8916\n",
            "Epoch 2/100\n",
            "\u001b[1m3/3\u001b[0m \u001b[32m━━━━━━━━━━━━━━━━━━━━\u001b[0m\u001b[37m\u001b[0m \u001b[1m39s\u001b[0m 8s/step - accuracy: 0.2135 - loss: 138.5118 - val_accuracy: 0.0588 - val_loss: 2.2655\n",
            "Epoch 3/100\n",
            "\u001b[1m3/3\u001b[0m \u001b[32m━━━━━━━━━━━━━━━━━━━━\u001b[0m\u001b[37m\u001b[0m \u001b[1m40s\u001b[0m 8s/step - accuracy: 0.2245 - loss: 56.5583 - val_accuracy: 0.1765 - val_loss: 3.0457\n",
            "Epoch 4/100\n",
            "\u001b[1m3/3\u001b[0m \u001b[32m━━━━━━━━━━━━━━━━━━━━\u001b[0m\u001b[37m\u001b[0m \u001b[1m42s\u001b[0m 9s/step - accuracy: 0.4576 - loss: 35.3041 - val_accuracy: 0.0588 - val_loss: 3.6498\n",
            "Epoch 5/100\n",
            "\u001b[1m3/3\u001b[0m \u001b[32m━━━━━━━━━━━━━━━━━━━━\u001b[0m\u001b[37m\u001b[0m \u001b[1m32s\u001b[0m 10s/step - accuracy: 0.4384 - loss: 25.6981 - val_accuracy: 0.0588 - val_loss: 3.1645\n",
            "Epoch 6/100\n",
            "\u001b[1m3/3\u001b[0m \u001b[32m━━━━━━━━━━━━━━━━━━━━\u001b[0m\u001b[37m\u001b[0m \u001b[1m38s\u001b[0m 8s/step - accuracy: 0.6298 - loss: 10.3454 - val_accuracy: 0.0588 - val_loss: 4.3967\n",
            "Epoch 7/100\n",
            "\u001b[1m3/3\u001b[0m \u001b[32m━━━━━━━━━━━━━━━━━━━━\u001b[0m\u001b[37m\u001b[0m \u001b[1m43s\u001b[0m 9s/step - accuracy: 0.5957 - loss: 10.0464 - val_accuracy: 0.0588 - val_loss: 3.2358\n",
            "Epoch 8/100\n",
            "\u001b[1m3/3\u001b[0m \u001b[32m━━━━━━━━━━━━━━━━━━━━\u001b[0m\u001b[37m\u001b[0m \u001b[1m39s\u001b[0m 8s/step - accuracy: 0.6071 - loss: 7.3189 - val_accuracy: 0.1765 - val_loss: 2.8928\n",
            "Epoch 9/100\n",
            "\u001b[1m3/3\u001b[0m \u001b[32m━━━━━━━━━━━━━━━━━━━━\u001b[0m\u001b[37m\u001b[0m \u001b[1m30s\u001b[0m 8s/step - accuracy: 0.6071 - loss: 5.8559 - val_accuracy: 0.1765 - val_loss: 2.3263\n",
            "Epoch 10/100\n",
            "\u001b[1m3/3\u001b[0m \u001b[32m━━━━━━━━━━━━━━━━━━━━\u001b[0m\u001b[37m\u001b[0m \u001b[1m40s\u001b[0m 8s/step - accuracy: 0.6639 - loss: 5.3736 - val_accuracy: 0.0588 - val_loss: 3.5419\n",
            "Epoch 11/100\n",
            "\u001b[1m3/3\u001b[0m \u001b[32m━━━━━━━━━━━━━━━━━━━━\u001b[0m\u001b[37m\u001b[0m \u001b[1m29s\u001b[0m 8s/step - accuracy: 0.6114 - loss: 13.8664 - val_accuracy: 0.1176 - val_loss: 2.0427\n",
            "Epoch 12/100\n",
            "\u001b[1m3/3\u001b[0m \u001b[32m━━━━━━━━━━━━━━━━━━━━\u001b[0m\u001b[37m\u001b[0m \u001b[1m42s\u001b[0m 9s/step - accuracy: 0.7520 - loss: 2.9206 - val_accuracy: 0.2353 - val_loss: 1.9620\n",
            "Epoch 13/100\n",
            "\u001b[1m3/3\u001b[0m \u001b[32m━━━━━━━━━━━━━━━━━━━━\u001b[0m\u001b[37m\u001b[0m \u001b[1m50s\u001b[0m 12s/step - accuracy: 0.8398 - loss: 1.6021 - val_accuracy: 0.0588 - val_loss: 2.0444\n",
            "Epoch 14/100\n",
            "\u001b[1m3/3\u001b[0m \u001b[32m━━━━━━━━━━━━━━━━━━━━\u001b[0m\u001b[37m\u001b[0m \u001b[1m53s\u001b[0m 16s/step - accuracy: 0.7371 - loss: 2.3275 - val_accuracy: 0.0588 - val_loss: 2.1174\n",
            "Epoch 15/100\n",
            "\u001b[1m3/3\u001b[0m \u001b[32m━━━━━━━━━━━━━━━━━━━━\u001b[0m\u001b[37m\u001b[0m \u001b[1m60s\u001b[0m 9s/step - accuracy: 0.7364 - loss: 2.9590 - val_accuracy: 0.1176 - val_loss: 2.0505\n",
            "Epoch 16/100\n",
            "\u001b[1m3/3\u001b[0m \u001b[32m━━━━━━━━━━━━━━━━━━━━\u001b[0m\u001b[37m\u001b[0m \u001b[1m40s\u001b[0m 8s/step - accuracy: 0.7286 - loss: 1.5914 - val_accuracy: 0.1176 - val_loss: 2.1513\n",
            "Epoch 17/100\n",
            "\u001b[1m3/3\u001b[0m \u001b[32m━━━━━━━━━━━━━━━━━━━━\u001b[0m\u001b[37m\u001b[0m \u001b[1m42s\u001b[0m 9s/step - accuracy: 0.8892 - loss: 1.2327 - val_accuracy: 0.1765 - val_loss: 2.3018\n",
            "Epoch 18/100\n",
            "\u001b[1m3/3\u001b[0m \u001b[32m━━━━━━━━━━━━━━━━━━━━\u001b[0m\u001b[37m\u001b[0m \u001b[1m30s\u001b[0m 8s/step - accuracy: 0.9279 - loss: 0.5268 - val_accuracy: 0.1765 - val_loss: 2.6617\n",
            "Epoch 19/100\n",
            "\u001b[1m3/3\u001b[0m \u001b[32m━━━━━━━━━━━━━━━━━━━━\u001b[0m\u001b[37m\u001b[0m \u001b[1m40s\u001b[0m 8s/step - accuracy: 0.7897 - loss: 0.8926 - val_accuracy: 0.0588 - val_loss: 5.2032\n",
            "Epoch 20/100\n",
            "\u001b[1m3/3\u001b[0m \u001b[32m━━━━━━━━━━━━━━━━━━━━\u001b[0m\u001b[37m\u001b[0m \u001b[1m41s\u001b[0m 9s/step - accuracy: 0.8778 - loss: 0.3286 - val_accuracy: 0.0588 - val_loss: 5.0387\n",
            "Epoch 21/100\n",
            "\u001b[1m3/3\u001b[0m \u001b[32m━━━━━━━━━━━━━━━━━━━━\u001b[0m\u001b[37m\u001b[0m \u001b[1m39s\u001b[0m 8s/step - accuracy: 0.6867 - loss: 1.4717 - val_accuracy: 0.1765 - val_loss: 2.9808\n",
            "Epoch 22/100\n",
            "\u001b[1m3/3\u001b[0m \u001b[32m━━━━━━━━━━━━━━━━━━━━\u001b[0m\u001b[37m\u001b[0m \u001b[1m43s\u001b[0m 8s/step - accuracy: 0.7020 - loss: 2.6866 - val_accuracy: 0.1176 - val_loss: 3.5039\n",
            "Epoch 23/100\n",
            "\u001b[1m3/3\u001b[0m \u001b[32m━━━━━━━━━━━━━━━━━━━━\u001b[0m\u001b[37m\u001b[0m \u001b[1m42s\u001b[0m 8s/step - accuracy: 0.8472 - loss: 0.6690 - val_accuracy: 0.1765 - val_loss: 4.2796\n",
            "Epoch 24/100\n",
            "\u001b[1m3/3\u001b[0m \u001b[32m━━━━━━━━━━━━━━━━━━━━\u001b[0m\u001b[37m\u001b[0m \u001b[1m41s\u001b[0m 9s/step - accuracy: 0.8551 - loss: 0.5491 - val_accuracy: 0.1765 - val_loss: 5.1468\n",
            "Epoch 25/100\n",
            "\u001b[1m3/3\u001b[0m \u001b[32m━━━━━━━━━━━━━━━━━━━━\u001b[0m\u001b[37m\u001b[0m \u001b[1m40s\u001b[0m 8s/step - accuracy: 0.8092 - loss: 1.3831 - val_accuracy: 0.1176 - val_loss: 5.4112\n",
            "Epoch 26/100\n",
            "\u001b[1m3/3\u001b[0m \u001b[32m━━━━━━━━━━━━━━━━━━━━\u001b[0m\u001b[37m\u001b[0m \u001b[1m40s\u001b[0m 8s/step - accuracy: 0.7595 - loss: 0.9181 - val_accuracy: 0.1176 - val_loss: 5.6585\n",
            "Epoch 27/100\n",
            "\u001b[1m3/3\u001b[0m \u001b[32m━━━━━━━━━━━━━━━━━━━━\u001b[0m\u001b[37m\u001b[0m \u001b[1m29s\u001b[0m 8s/step - accuracy: 0.7897 - loss: 1.2044 - val_accuracy: 0.1176 - val_loss: 5.6352\n",
            "Epoch 28/100\n",
            "\u001b[1m3/3\u001b[0m \u001b[32m━━━━━━━━━━━━━━━━━━━━\u001b[0m\u001b[37m\u001b[0m \u001b[1m41s\u001b[0m 8s/step - accuracy: 0.7748 - loss: 1.4379 - val_accuracy: 0.1176 - val_loss: 6.0073\n",
            "Epoch 29/100\n",
            "\u001b[1m3/3\u001b[0m \u001b[32m━━━━━━━━━━━━━━━━━━━━\u001b[0m\u001b[37m\u001b[0m \u001b[1m40s\u001b[0m 8s/step - accuracy: 0.8554 - loss: 0.5127 - val_accuracy: 0.1176 - val_loss: 5.8580\n",
            "Epoch 30/100\n",
            "\u001b[1m3/3\u001b[0m \u001b[32m━━━━━━━━━━━━━━━━━━━━\u001b[0m\u001b[37m\u001b[0m \u001b[1m41s\u001b[0m 8s/step - accuracy: 0.9197 - loss: 0.1741 - val_accuracy: 0.1176 - val_loss: 6.6185\n",
            "Epoch 31/100\n",
            "\u001b[1m3/3\u001b[0m \u001b[32m━━━━━━━━━━━━━━━━━━━━\u001b[0m\u001b[37m\u001b[0m \u001b[1m42s\u001b[0m 8s/step - accuracy: 0.8629 - loss: 1.2961 - val_accuracy: 0.1176 - val_loss: 7.6623\n",
            "Epoch 32/100\n",
            "\u001b[1m3/3\u001b[0m \u001b[32m━━━━━━━━━━━━━━━━━━━━\u001b[0m\u001b[37m\u001b[0m \u001b[1m41s\u001b[0m 9s/step - accuracy: 0.8544 - loss: 0.6573 - val_accuracy: 0.1176 - val_loss: 8.4334\n",
            "Epoch 33/100\n",
            "\u001b[1m3/3\u001b[0m \u001b[32m━━━━━━━━━━━━━━━━━━━━\u001b[0m\u001b[37m\u001b[0m \u001b[1m41s\u001b[0m 9s/step - accuracy: 0.7975 - loss: 0.9805 - val_accuracy: 0.1176 - val_loss: 8.2541\n",
            "Epoch 34/100\n",
            "\u001b[1m3/3\u001b[0m \u001b[32m━━━━━━━━━━━━━━━━━━━━\u001b[0m\u001b[37m\u001b[0m \u001b[1m41s\u001b[0m 8s/step - accuracy: 0.8934 - loss: 0.7831 - val_accuracy: 0.1176 - val_loss: 7.5175\n",
            "Epoch 35/100\n",
            "\u001b[1m3/3\u001b[0m \u001b[32m━━━━━━━━━━━━━━━━━━━━\u001b[0m\u001b[37m\u001b[0m \u001b[1m41s\u001b[0m 9s/step - accuracy: 0.9083 - loss: 0.2811 - val_accuracy: 0.1176 - val_loss: 7.0999\n",
            "Epoch 36/100\n",
            "\u001b[1m3/3\u001b[0m \u001b[32m━━━━━━━━━━━━━━━━━━━━\u001b[0m\u001b[37m\u001b[0m \u001b[1m28s\u001b[0m 8s/step - accuracy: 0.9083 - loss: 0.4563 - val_accuracy: 0.1176 - val_loss: 6.2174\n",
            "Epoch 37/100\n",
            "\u001b[1m3/3\u001b[0m \u001b[32m━━━━━━━━━━━━━━━━━━━━\u001b[0m\u001b[37m\u001b[0m \u001b[1m30s\u001b[0m 9s/step - accuracy: 0.8817 - loss: 0.3237 - val_accuracy: 0.1176 - val_loss: 5.8348\n",
            "Epoch 38/100\n",
            "\u001b[1m3/3\u001b[0m \u001b[32m━━━━━━━━━━━━━━━━━━━━\u001b[0m\u001b[37m\u001b[0m \u001b[1m40s\u001b[0m 8s/step - accuracy: 0.8970 - loss: 0.3553 - val_accuracy: 0.1176 - val_loss: 6.1068\n",
            "Epoch 39/100\n",
            "\u001b[1m3/3\u001b[0m \u001b[32m━━━━━━━━━━━━━━━━━━━━\u001b[0m\u001b[37m\u001b[0m \u001b[1m29s\u001b[0m 8s/step - accuracy: 0.9584 - loss: 0.1229 - val_accuracy: 0.1176 - val_loss: 6.7745\n",
            "Epoch 40/100\n",
            "\u001b[1m3/3\u001b[0m \u001b[32m━━━━━━━━━━━━━━━━━━━━\u001b[0m\u001b[37m\u001b[0m \u001b[1m28s\u001b[0m 8s/step - accuracy: 0.8394 - loss: 0.5139 - val_accuracy: 0.1176 - val_loss: 6.8515\n",
            "Epoch 41/100\n",
            "\u001b[1m3/3\u001b[0m \u001b[32m━━━━━━━━━━━━━━━━━━━━\u001b[0m\u001b[37m\u001b[0m \u001b[1m43s\u001b[0m 9s/step - accuracy: 0.9083 - loss: 0.3260 - val_accuracy: 0.1176 - val_loss: 6.7940\n",
            "Epoch 42/100\n",
            "\u001b[1m3/3\u001b[0m \u001b[32m━━━━━━━━━━━━━━━━━━━━\u001b[0m\u001b[37m\u001b[0m \u001b[1m41s\u001b[0m 9s/step - accuracy: 0.9467 - loss: 0.2389 - val_accuracy: 0.1176 - val_loss: 6.6898\n",
            "Epoch 43/100\n",
            "\u001b[1m3/3\u001b[0m \u001b[32m━━━━━━━━━━━━━━━━━━━━\u001b[0m\u001b[37m\u001b[0m \u001b[1m41s\u001b[0m 9s/step - accuracy: 0.9005 - loss: 0.2733 - val_accuracy: 0.1176 - val_loss: 6.5194\n",
            "Epoch 44/100\n",
            "\u001b[1m3/3\u001b[0m \u001b[32m━━━━━━━━━━━━━━━━━━━━\u001b[0m\u001b[37m\u001b[0m \u001b[1m39s\u001b[0m 8s/step - accuracy: 0.9005 - loss: 0.2413 - val_accuracy: 0.1176 - val_loss: 6.5103\n",
            "Epoch 45/100\n",
            "\u001b[1m3/3\u001b[0m \u001b[32m━━━━━━━━━━━━━━━━━━━━\u001b[0m\u001b[37m\u001b[0m \u001b[1m42s\u001b[0m 8s/step - accuracy: 0.9503 - loss: 0.1845 - val_accuracy: 0.1176 - val_loss: 6.5749\n",
            "Epoch 46/100\n",
            "\u001b[1m3/3\u001b[0m \u001b[32m━━━━━━━━━━━━━━━━━━━━\u001b[0m\u001b[37m\u001b[0m \u001b[1m41s\u001b[0m 8s/step - accuracy: 0.9503 - loss: 0.2236 - val_accuracy: 0.1176 - val_loss: 6.3840\n",
            "Epoch 47/100\n",
            "\u001b[1m3/3\u001b[0m \u001b[32m━━━━━━━━━━━━━━━━━━━━\u001b[0m\u001b[37m\u001b[0m \u001b[1m40s\u001b[0m 8s/step - accuracy: 0.9240 - loss: 0.2050 - val_accuracy: 0.1176 - val_loss: 6.0590\n",
            "Epoch 48/100\n",
            "\u001b[1m3/3\u001b[0m \u001b[32m━━━━━━━━━━━━━━━━━━━━\u001b[0m\u001b[37m\u001b[0m \u001b[1m30s\u001b[0m 9s/step - accuracy: 0.9467 - loss: 0.2314 - val_accuracy: 0.1176 - val_loss: 5.7100\n",
            "Epoch 49/100\n",
            "\u001b[1m3/3\u001b[0m \u001b[32m━━━━━━━━━━━━━━━━━━━━\u001b[0m\u001b[37m\u001b[0m \u001b[1m39s\u001b[0m 8s/step - accuracy: 0.9581 - loss: 0.1377 - val_accuracy: 0.1176 - val_loss: 5.5594\n",
            "Epoch 50/100\n",
            "\u001b[1m3/3\u001b[0m \u001b[32m━━━━━━━━━━━━━━━━━━━━\u001b[0m\u001b[37m\u001b[0m \u001b[1m29s\u001b[0m 8s/step - accuracy: 0.9425 - loss: 0.4019 - val_accuracy: 0.1176 - val_loss: 5.7898\n",
            "Epoch 51/100\n",
            "\u001b[1m3/3\u001b[0m \u001b[32m━━━━━━━━━━━━━━━━━━━━\u001b[0m\u001b[37m\u001b[0m \u001b[1m41s\u001b[0m 9s/step - accuracy: 0.9808 - loss: 0.0459 - val_accuracy: 0.1176 - val_loss: 6.3261\n",
            "Epoch 52/100\n",
            "\u001b[1m3/3\u001b[0m \u001b[32m━━━━━━━━━━━━━━━━━━━━\u001b[0m\u001b[37m\u001b[0m \u001b[1m43s\u001b[0m 9s/step - accuracy: 0.9353 - loss: 0.2477 - val_accuracy: 0.1176 - val_loss: 6.7572\n",
            "Epoch 53/100\n",
            "\u001b[1m3/3\u001b[0m \u001b[32m━━━━━━━━━━━━━━━━━━━━\u001b[0m\u001b[37m\u001b[0m \u001b[1m41s\u001b[0m 9s/step - accuracy: 0.9087 - loss: 0.7304 - val_accuracy: 0.1176 - val_loss: 5.5740\n",
            "Epoch 54/100\n",
            "\u001b[1m3/3\u001b[0m \u001b[32m━━━━━━━━━━━━━━━━━━━━\u001b[0m\u001b[37m\u001b[0m \u001b[1m31s\u001b[0m 9s/step - accuracy: 0.8778 - loss: 0.4434 - val_accuracy: 0.1765 - val_loss: 3.2519\n",
            "Epoch 55/100\n",
            "\u001b[1m3/3\u001b[0m \u001b[32m━━━━━━━━━━━━━━━━━━━━\u001b[0m\u001b[37m\u001b[0m \u001b[1m30s\u001b[0m 9s/step - accuracy: 0.8892 - loss: 0.6814 - val_accuracy: 0.0588 - val_loss: 2.1880\n",
            "Epoch 56/100\n",
            "\u001b[1m3/3\u001b[0m \u001b[32m━━━━━━━━━━━━━━━━━━━━\u001b[0m\u001b[37m\u001b[0m \u001b[1m40s\u001b[0m 8s/step - accuracy: 0.8288 - loss: 2.1816 - val_accuracy: 0.0588 - val_loss: 2.2469\n",
            "Epoch 57/100\n",
            "\u001b[1m3/3\u001b[0m \u001b[32m━━━━━━━━━━━━━━━━━━━━\u001b[0m\u001b[37m\u001b[0m \u001b[1m42s\u001b[0m 9s/step - accuracy: 0.8664 - loss: 0.7441 - val_accuracy: 0.0588 - val_loss: 3.4892\n",
            "Epoch 58/100\n",
            "\u001b[1m3/3\u001b[0m \u001b[32m━━━━━━━━━━━━━━━━━━━━\u001b[0m\u001b[37m\u001b[0m \u001b[1m39s\u001b[0m 8s/step - accuracy: 0.8664 - loss: 0.9238 - val_accuracy: 0.2353 - val_loss: 5.0693\n",
            "Epoch 59/100\n",
            "\u001b[1m3/3\u001b[0m \u001b[32m━━━━━━━━━━━━━━━━━━━━\u001b[0m\u001b[37m\u001b[0m \u001b[1m27s\u001b[0m 8s/step - accuracy: 0.8856 - loss: 1.1337 - val_accuracy: 0.1765 - val_loss: 7.7302\n",
            "Epoch 60/100\n",
            "\u001b[1m3/3\u001b[0m \u001b[32m━━━━━━━━━━━━━━━━━━━━\u001b[0m\u001b[37m\u001b[0m \u001b[1m41s\u001b[0m 8s/step - accuracy: 0.9083 - loss: 0.8716 - val_accuracy: 0.1176 - val_loss: 7.3218\n",
            "Epoch 61/100\n",
            "\u001b[1m3/3\u001b[0m \u001b[32m━━━━━━━━━━━━━━━━━━━━\u001b[0m\u001b[37m\u001b[0m \u001b[1m41s\u001b[0m 8s/step - accuracy: 0.8817 - loss: 2.3285 - val_accuracy: 0.1176 - val_loss: 9.4241\n",
            "Epoch 62/100\n",
            "\u001b[1m3/3\u001b[0m \u001b[32m━━━━━━━━━━━━━━━━━━━━\u001b[0m\u001b[37m\u001b[0m \u001b[1m41s\u001b[0m 8s/step - accuracy: 0.9425 - loss: 0.8997 - val_accuracy: 0.1765 - val_loss: 11.4267\n",
            "Epoch 63/100\n",
            "\u001b[1m3/3\u001b[0m \u001b[32m━━━━━━━━━━━━━━━━━━━━\u001b[0m\u001b[37m\u001b[0m \u001b[1m41s\u001b[0m 8s/step - accuracy: 0.8362 - loss: 2.4632 - val_accuracy: 0.2353 - val_loss: 13.5353\n",
            "Epoch 64/100\n",
            "\u001b[1m3/3\u001b[0m \u001b[32m━━━━━━━━━━━━━━━━━━━━\u001b[0m\u001b[37m\u001b[0m \u001b[1m41s\u001b[0m 8s/step - accuracy: 0.9048 - loss: 0.6774 - val_accuracy: 0.1765 - val_loss: 14.5485\n",
            "Epoch 65/100\n",
            "\u001b[1m3/3\u001b[0m \u001b[32m━━━━━━━━━━━━━━━━━━━━\u001b[0m\u001b[37m\u001b[0m \u001b[1m41s\u001b[0m 8s/step - accuracy: 0.8362 - loss: 1.0424 - val_accuracy: 0.1176 - val_loss: 12.9448\n",
            "Epoch 66/100\n",
            "\u001b[1m3/3\u001b[0m \u001b[32m━━━━━━━━━━━━━━━━━━━━\u001b[0m\u001b[37m\u001b[0m \u001b[1m41s\u001b[0m 8s/step - accuracy: 0.7709 - loss: 1.4175 - val_accuracy: 0.1176 - val_loss: 8.7972\n",
            "Epoch 67/100\n",
            "\u001b[1m3/3\u001b[0m \u001b[32m━━━━━━━━━━━━━━━━━━━━\u001b[0m\u001b[37m\u001b[0m \u001b[1m40s\u001b[0m 8s/step - accuracy: 0.7677 - loss: 0.7064 - val_accuracy: 0.1176 - val_loss: 7.7295\n",
            "Epoch 68/100\n",
            "\u001b[1m3/3\u001b[0m \u001b[32m━━━━━━━━━━━━━━━━━━━━\u001b[0m\u001b[37m\u001b[0m \u001b[1m41s\u001b[0m 8s/step - accuracy: 0.7027 - loss: 1.0866 - val_accuracy: 0.1176 - val_loss: 6.2314\n",
            "Epoch 69/100\n",
            "\u001b[1m3/3\u001b[0m \u001b[32m━━━━━━━━━━━━━━━━━━━━\u001b[0m\u001b[37m\u001b[0m \u001b[1m41s\u001b[0m 8s/step - accuracy: 0.7211 - loss: 1.2808 - val_accuracy: 0.1765 - val_loss: 4.4935\n",
            "Epoch 70/100\n",
            "\u001b[1m3/3\u001b[0m \u001b[32m━━━━━━━━━━━━━━━━━━━━\u001b[0m\u001b[37m\u001b[0m \u001b[1m41s\u001b[0m 8s/step - accuracy: 0.7059 - loss: 1.0803 - val_accuracy: 0.1176 - val_loss: 5.2361\n",
            "Epoch 71/100\n",
            "\u001b[1m3/3\u001b[0m \u001b[32m━━━━━━━━━━━━━━━━━━━━\u001b[0m\u001b[37m\u001b[0m \u001b[1m41s\u001b[0m 8s/step - accuracy: 0.6796 - loss: 0.8858 - val_accuracy: 0.0588 - val_loss: 8.5369\n",
            "Epoch 72/100\n",
            "\u001b[1m3/3\u001b[0m \u001b[32m━━━━━━━━━━━━━━━━━━━━\u001b[0m\u001b[37m\u001b[0m \u001b[1m41s\u001b[0m 8s/step - accuracy: 0.5993 - loss: 1.9712 - val_accuracy: 0.0588 - val_loss: 14.7084\n",
            "Epoch 73/100\n",
            "\u001b[1m3/3\u001b[0m \u001b[32m━━━━━━━━━━━━━━━━━━━━\u001b[0m\u001b[37m\u001b[0m \u001b[1m41s\u001b[0m 8s/step - accuracy: 0.6373 - loss: 1.0574 - val_accuracy: 0.2941 - val_loss: 7.8304\n",
            "Epoch 74/100\n",
            "\u001b[1m3/3\u001b[0m \u001b[32m━━━━━━━━━━━━━━━━━━━━\u001b[0m\u001b[37m\u001b[0m \u001b[1m28s\u001b[0m 8s/step - accuracy: 0.7368 - loss: 1.1982 - val_accuracy: 0.1176 - val_loss: 2.8064\n",
            "Epoch 75/100\n",
            "\u001b[1m3/3\u001b[0m \u001b[32m━━━━━━━━━━━━━━━━━━━━\u001b[0m\u001b[37m\u001b[0m \u001b[1m40s\u001b[0m 8s/step - accuracy: 0.7520 - loss: 1.2116 - val_accuracy: 0.0588 - val_loss: 1.9480\n",
            "Epoch 76/100\n",
            "\u001b[1m3/3\u001b[0m \u001b[32m━━━━━━━━━━━━━━━━━━━━\u001b[0m\u001b[37m\u001b[0m \u001b[1m42s\u001b[0m 8s/step - accuracy: 0.7250 - loss: 0.8689 - val_accuracy: 0.0588 - val_loss: 3.5951\n",
            "Epoch 77/100\n",
            "\u001b[1m3/3\u001b[0m \u001b[32m━━━━━━━━━━━━━━━━━━━━\u001b[0m\u001b[37m\u001b[0m \u001b[1m41s\u001b[0m 8s/step - accuracy: 0.7677 - loss: 0.8499 - val_accuracy: 0.1176 - val_loss: 6.9316\n",
            "Epoch 78/100\n",
            "\u001b[1m3/3\u001b[0m \u001b[32m━━━━━━━━━━━━━━━━━━━━\u001b[0m\u001b[37m\u001b[0m \u001b[1m42s\u001b[0m 9s/step - accuracy: 0.7933 - loss: 0.7596 - val_accuracy: 0.0588 - val_loss: 20.3455\n",
            "Epoch 79/100\n",
            "\u001b[1m3/3\u001b[0m \u001b[32m━━━━━━━━━━━━━━━━━━━━\u001b[0m\u001b[37m\u001b[0m \u001b[1m40s\u001b[0m 8s/step - accuracy: 0.5723 - loss: 1.7994 - val_accuracy: 0.1176 - val_loss: 10.3057\n",
            "Epoch 80/100\n",
            "\u001b[1m3/3\u001b[0m \u001b[32m━━━━━━━━━━━━━━━━━━━━\u001b[0m\u001b[37m\u001b[0m \u001b[1m27s\u001b[0m 8s/step - accuracy: 0.6366 - loss: 1.9549 - val_accuracy: 0.2353 - val_loss: 1.6483\n",
            "Epoch 81/100\n",
            "\u001b[1m3/3\u001b[0m \u001b[32m━━━━━━━━━━━━━━━━━━━━\u001b[0m\u001b[37m\u001b[0m \u001b[1m41s\u001b[0m 8s/step - accuracy: 0.6334 - loss: 0.8926 - val_accuracy: 0.2353 - val_loss: 1.6794\n",
            "Epoch 82/100\n",
            "\u001b[1m3/3\u001b[0m \u001b[32m━━━━━━━━━━━━━━━━━━━━\u001b[0m\u001b[37m\u001b[0m \u001b[1m42s\u001b[0m 8s/step - accuracy: 0.7439 - loss: 0.7364 - val_accuracy: 0.2353 - val_loss: 1.6841\n",
            "Epoch 83/100\n",
            "\u001b[1m3/3\u001b[0m \u001b[32m━━━━━━━━━━━━━━━━━━━━\u001b[0m\u001b[37m\u001b[0m \u001b[1m41s\u001b[0m 8s/step - accuracy: 0.7478 - loss: 0.6741 - val_accuracy: 0.2353 - val_loss: 1.6697\n",
            "Epoch 84/100\n",
            "\u001b[1m3/3\u001b[0m \u001b[32m━━━━━━━━━━━━━━━━━━━━\u001b[0m\u001b[37m\u001b[0m \u001b[1m40s\u001b[0m 8s/step - accuracy: 0.7865 - loss: 0.5875 - val_accuracy: 0.2353 - val_loss: 1.6460\n",
            "Epoch 85/100\n",
            "\u001b[1m3/3\u001b[0m \u001b[32m━━━━━━━━━━━━━━━━━━━━\u001b[0m\u001b[37m\u001b[0m \u001b[1m41s\u001b[0m 8s/step - accuracy: 0.8206 - loss: 1.1443 - val_accuracy: 0.2353 - val_loss: 1.6208\n",
            "Epoch 86/100\n",
            "\u001b[1m3/3\u001b[0m \u001b[32m━━━━━━━━━━━━━━━━━━━━\u001b[0m\u001b[37m\u001b[0m \u001b[1m40s\u001b[0m 8s/step - accuracy: 0.8092 - loss: 0.4919 - val_accuracy: 0.2941 - val_loss: 1.7223\n",
            "Epoch 87/100\n",
            "\u001b[1m3/3\u001b[0m \u001b[32m━━━━━━━━━━━━━━━━━━━━\u001b[0m\u001b[37m\u001b[0m \u001b[1m41s\u001b[0m 8s/step - accuracy: 0.7940 - loss: 0.4836 - val_accuracy: 0.2941 - val_loss: 1.9181\n",
            "Epoch 88/100\n",
            "\u001b[1m3/3\u001b[0m \u001b[32m━━━━━━━━━━━━━━━━━━━━\u001b[0m\u001b[37m\u001b[0m \u001b[1m41s\u001b[0m 8s/step - accuracy: 0.7858 - loss: 0.4199 - val_accuracy: 0.2941 - val_loss: 2.2468\n",
            "Epoch 89/100\n",
            "\u001b[1m3/3\u001b[0m \u001b[32m━━━━━━━━━━━━━━━━━━━━\u001b[0m\u001b[37m\u001b[0m \u001b[1m41s\u001b[0m 8s/step - accuracy: 0.7940 - loss: 1.0854 - val_accuracy: 0.2941 - val_loss: 2.6055\n",
            "Epoch 90/100\n",
            "\u001b[1m3/3\u001b[0m \u001b[32m━━━━━━━━━━━━━━━━━━━━\u001b[0m\u001b[37m\u001b[0m \u001b[1m41s\u001b[0m 8s/step - accuracy: 0.8476 - loss: 0.4180 - val_accuracy: 0.2941 - val_loss: 2.5409\n",
            "Epoch 91/100\n",
            "\u001b[1m3/3\u001b[0m \u001b[32m━━━━━━━━━━━━━━━━━━━━\u001b[0m\u001b[37m\u001b[0m \u001b[1m41s\u001b[0m 8s/step - accuracy: 0.8401 - loss: 0.5969 - val_accuracy: 0.2941 - val_loss: 2.1121\n",
            "Epoch 92/100\n",
            "\u001b[1m3/3\u001b[0m \u001b[32m━━━━━━━━━━━━━━━━━━━━\u001b[0m\u001b[37m\u001b[0m \u001b[1m41s\u001b[0m 8s/step - accuracy: 0.7599 - loss: 0.6265 - val_accuracy: 0.2941 - val_loss: 1.7905\n",
            "Epoch 93/100\n",
            "\u001b[1m3/3\u001b[0m \u001b[32m━━━━━━━━━━━━━━━━━━━━\u001b[0m\u001b[37m\u001b[0m \u001b[1m42s\u001b[0m 8s/step - accuracy: 0.8245 - loss: 0.7993 - val_accuracy: 0.2353 - val_loss: 1.7772\n",
            "Epoch 94/100\n",
            "\u001b[1m3/3\u001b[0m \u001b[32m━━━━━━━━━━━━━━━━━━━━\u001b[0m\u001b[37m\u001b[0m \u001b[1m27s\u001b[0m 8s/step - accuracy: 0.8245 - loss: 0.5959 - val_accuracy: 0.2353 - val_loss: 1.9195\n",
            "Epoch 95/100\n",
            "\u001b[1m3/3\u001b[0m \u001b[32m━━━━━━━━━━━━━━━━━━━━\u001b[0m\u001b[37m\u001b[0m \u001b[1m41s\u001b[0m 8s/step - accuracy: 0.9545 - loss: 0.2907 - val_accuracy: 0.1765 - val_loss: 2.5137\n",
            "Epoch 96/100\n",
            "\u001b[1m3/3\u001b[0m \u001b[32m━━━━━━━━━━━━━━━━━━━━\u001b[0m\u001b[37m\u001b[0m \u001b[1m42s\u001b[0m 9s/step - accuracy: 0.7901 - loss: 0.6726 - val_accuracy: 0.1765 - val_loss: 3.0812\n",
            "Epoch 97/100\n",
            "\u001b[1m3/3\u001b[0m \u001b[32m━━━━━━━━━━━━━━━━━━━━\u001b[0m\u001b[37m\u001b[0m \u001b[1m40s\u001b[0m 8s/step - accuracy: 0.8814 - loss: 0.6987 - val_accuracy: 0.2353 - val_loss: 3.2030\n",
            "Epoch 98/100\n",
            "\u001b[1m3/3\u001b[0m \u001b[32m━━━━━━━━━━━━━━━━━━━━\u001b[0m\u001b[37m\u001b[0m \u001b[1m43s\u001b[0m 9s/step - accuracy: 0.7940 - loss: 0.6579 - val_accuracy: 0.2353 - val_loss: 3.1233\n",
            "Epoch 99/100\n",
            "\u001b[1m3/3\u001b[0m \u001b[32m━━━━━━━━━━━━━━━━━━━━\u001b[0m\u001b[37m\u001b[0m \u001b[1m41s\u001b[0m 8s/step - accuracy: 0.8288 - loss: 0.6339 - val_accuracy: 0.3529 - val_loss: 3.0919\n",
            "Epoch 100/100\n",
            "\u001b[1m3/3\u001b[0m \u001b[32m━━━━━━━━━━━━━━━━━━━━\u001b[0m\u001b[37m\u001b[0m \u001b[1m30s\u001b[0m 9s/step - accuracy: 0.8398 - loss: 0.9324 - val_accuracy: 0.2941 - val_loss: 2.9839\n"
          ]
        },
        {
          "output_type": "execute_result",
          "data": {
            "text/plain": [
              "<keras.src.callbacks.history.History at 0x78a6ceb1e390>"
            ]
          },
          "metadata": {},
          "execution_count": 9
        }
      ]
    },
    {
      "cell_type": "code",
      "source": [
        "loss, accuracy = model.evaluate(X_test,y_test)\n",
        "print(f'độ chính xác : {int(accuracy*100)}%')"
      ],
      "metadata": {
        "colab": {
          "base_uri": "https://localhost:8080/"
        },
        "id": "3gA1SlndRTv2",
        "outputId": "4c93fbfd-8eb0-4376-b45d-94c0c2f8f1e8"
      },
      "execution_count": null,
      "outputs": [
        {
          "output_type": "stream",
          "name": "stdout",
          "text": [
            "\u001b[1m1/1\u001b[0m \u001b[32m━━━━━━━━━━━━━━━━━━━━\u001b[0m\u001b[37m\u001b[0m \u001b[1m1s\u001b[0m 1s/step - accuracy: 0.1765 - loss: 3.0606\n",
            "độ chính xác : 17%\n"
          ]
        }
      ]
    },
    {
      "cell_type": "code",
      "source": [
        "model.save('trainflower.h5')"
      ],
      "metadata": {
        "colab": {
          "base_uri": "https://localhost:8080/"
        },
        "id": "6CWeSb9xAtoA",
        "outputId": "ccdc28b2-17f5-41c0-8f93-f3d1e81f2325"
      },
      "execution_count": null,
      "outputs": [
        {
          "output_type": "stream",
          "name": "stderr",
          "text": [
            "WARNING:absl:You are saving your model as an HDF5 file via `model.save()` or `keras.saving.save_model(model)`. This file format is considered legacy. We recommend using instead the native Keras format, e.g. `model.save('my_model.keras')` or `keras.saving.save_model(model, 'my_model.keras')`. \n"
          ]
        }
      ]
    },
    {
      "cell_type": "code",
      "source": [
        "import numpy as np\n",
        "from tensorflow.keras.preprocessing import image\n",
        "from tensorflow.keras.models import load_model\n",
        "\n",
        "def predict_digit(image_path, model):\n",
        "    # Load ảnh và resize về (128, 128)\n",
        "    img = image.load_img(image_path, target_size=(128, 128))\n",
        "    img_array = image.img_to_array(img)  # Chuyển thành mảng numpy\n",
        "    img_array = img_array / 255.0  # Chuẩn hóa dữ liệu\n",
        "    img_array = np.expand_dims(img_array, axis=0)  # Thêm batch dimension (1, 128, 128, 3)\n",
        "\n",
        "    # Dự đoán\n",
        "    prediction = model.predict(img_array)\n",
        "    predicted_class = np.argmax(prediction)  # Lấy nhãn có xác suất cao nhất\n",
        "    return predicted_class\n",
        "\n",
        "# Load mô hình đã train\n",
        "model = load_model(\"/content/trainflower.h5\")  # Thay đường dẫn phù hợp\n",
        "\n",
        "# Dự đoán ảnh\n",
        "image_path = \"/content/hoa sen_6.jpg\"\n",
        "predicted_digit = predict_digit(image_path, model)\n",
        "print(f\"Số tiên đoán: {predicted_digit}\")\n"
      ],
      "metadata": {
        "colab": {
          "base_uri": "https://localhost:8080/"
        },
        "id": "YT2ZyNftBDeA",
        "outputId": "78c0ca10-e1f5-4780-b016-2a59066d5de4"
      },
      "execution_count": null,
      "outputs": [
        {
          "output_type": "stream",
          "name": "stderr",
          "text": [
            "WARNING:absl:Compiled the loaded model, but the compiled metrics have yet to be built. `model.compile_metrics` will be empty until you train or evaluate the model.\n"
          ]
        },
        {
          "output_type": "stream",
          "name": "stdout",
          "text": [
            "\u001b[1m1/1\u001b[0m \u001b[32m━━━━━━━━━━━━━━━━━━━━\u001b[0m\u001b[37m\u001b[0m \u001b[1m0s\u001b[0m 484ms/step\n",
            "Số tiên đoán: 2\n"
          ]
        }
      ]
    },
    {
      "cell_type": "code",
      "source": [
        "import numpy as np\n",
        "import tensorflow as tf\n",
        "import cv2\n",
        "import os\n",
        "from PIL import Image\n",
        "from tensorflow.keras.models import Sequential\n",
        "from tensorflow.keras.layers import Conv2D, MaxPooling2D, Flatten, Dense, Dropout, BatchNormalization, Input, GlobalAveragePooling2D\n",
        "from tensorflow.keras.preprocessing.image import ImageDataGenerator\n",
        "from sklearn.model_selection import train_test_split\n",
        "from tensorflow.keras.utils import to_categorical\n",
        "\n",
        "# Đọc dữ liệu ảnh\n",
        "data = \"/content/drive/MyDrive/hoa/hoa\"\n",
        "images = []\n",
        "labels = []\n",
        "class_id = 0\n",
        "label_map = {}\n",
        "\n",
        "for image_name in os.listdir(data):\n",
        "    image_path = os.path.join(data, image_name)\n",
        "    image = Image.open(image_path).convert('RGB')\n",
        "    image = image.resize((128, 128))  # Tăng kích thước ảnh\n",
        "    image = np.array(image)\n",
        "    images.append(image)\n",
        "\n",
        "    if image_name.split('_')[0] not in label_map:\n",
        "        label_map[image_name.split('_')[0]] = class_id\n",
        "        class_id += 1\n",
        "\n",
        "    label = label_map[image_name.split('_')[0]]\n",
        "    labels.append(label)\n",
        "\n",
        "images = np.array(images)\n",
        "labels = np.array(labels)\n",
        "\n",
        "# Chuẩn hóa giá trị pixel\n",
        "images = images.astype('float32') / 255.0\n",
        "\n",
        "# Chia dữ liệu thành tập huấn luyện và kiểm tra\n",
        "X_train, X_test, y_train, y_test = train_test_split(images, labels, test_size=0.2, random_state=42)\n",
        "\n",
        "# Mã hóa nhãn bằng one-hot encoding\n",
        "num_classes = len(np.unique(labels))\n",
        "y_train = to_categorical(y_train, num_classes)\n",
        "y_test = to_categorical(y_test, num_classes)\n",
        "\n",
        "# Data Augmentation\n",
        "datagen = ImageDataGenerator(\n",
        "    rotation_range=40,\n",
        "    width_shift_range=0.3,\n",
        "    height_shift_range=0.3,\n",
        "    horizontal_flip=True,\n",
        "    zoom_range=0.3,\n",
        "    brightness_range=[0.5, 1.5],\n",
        "    shear_range=0.2,\n",
        "    fill_mode='nearest'\n",
        ")\n",
        "datagen.fit(X_train)\n",
        "\n",
        "# Mô hình CNN cải tiến\n",
        "model = Sequential([\n",
        "    Input(shape=(128, 128, 3)),\n",
        "\n",
        "    # Block 1\n",
        "    Conv2D(64, (3, 3), activation='relu', padding='same'),\n",
        "    Conv2D(64, (3, 3), activation='relu', padding='same'),\n",
        "    MaxPooling2D((2, 2)),\n",
        "    Dropout(0.3),\n",
        "\n",
        "    Conv2D(128, (3, 3), activation='relu', padding='same'),\n",
        "    Conv2D(128, (3, 3), activation='relu', padding='same'),\n",
        "    MaxPooling2D((2, 2)),\n",
        "    Dropout(0.4),\n",
        "    Conv2D(512, (3, 3), activation='relu', padding='same'),\n",
        "    Conv2D(512, (3, 3), activation='relu', padding='same'),\n",
        "    MaxPooling2D((2, 2)),\n",
        "    Dropout(0.5),\n",
        "\n",
        "    GlobalAveragePooling2D(),  # Giảm số tham số để tránh overfitting\n",
        "\n",
        "    Dense(512, activation='relu'),\n",
        "    Dropout(0.5),\n",
        "    Dense(num_classes, activation='softmax')\n",
        "])\n",
        "\n",
        "# Compile mô hình\n",
        "model.compile(optimizer='adam', loss='categorical_crossentropy', metrics=['accuracy'])\n",
        "model.fit(X_train, y_train, epochs=50,validation_data=(X_test, y_test))\n",
        "loss, accuracy = model.evaluate(X_test,y_test)\n",
        "print(f'độ chính xác : {int(accuracy*100)}%')"
      ],
      "metadata": {
        "colab": {
          "base_uri": "https://localhost:8080/"
        },
        "id": "An5eFUpLZAeG",
        "outputId": "f3c67388-ef0c-43dd-b5bc-a0204bd84041"
      },
      "execution_count": null,
      "outputs": [
        {
          "output_type": "stream",
          "name": "stdout",
          "text": [
            "Epoch 1/50\n",
            "\u001b[1m3/3\u001b[0m \u001b[32m━━━━━━━━━━━━━━━━━━━━\u001b[0m\u001b[37m\u001b[0m \u001b[1m56s\u001b[0m 13s/step - accuracy: 0.1492 - loss: 1.8455 - val_accuracy: 0.0588 - val_loss: 1.7980\n",
            "Epoch 2/50\n",
            "\u001b[1m3/3\u001b[0m \u001b[32m━━━━━━━━━━━━━━━━━━━━\u001b[0m\u001b[37m\u001b[0m \u001b[1m49s\u001b[0m 14s/step - accuracy: 0.2060 - loss: 1.7895 - val_accuracy: 0.0588 - val_loss: 1.7974\n",
            "Epoch 3/50\n",
            "\u001b[1m3/3\u001b[0m \u001b[32m━━━━━━━━━━━━━━━━━━━━\u001b[0m\u001b[37m\u001b[0m \u001b[1m82s\u001b[0m 14s/step - accuracy: 0.1797 - loss: 1.7909 - val_accuracy: 0.0588 - val_loss: 1.7990\n",
            "Epoch 4/50\n",
            "\u001b[1m3/3\u001b[0m \u001b[32m━━━━━━━━━━━━━━━━━━━━\u001b[0m\u001b[37m\u001b[0m \u001b[1m82s\u001b[0m 14s/step - accuracy: 0.2444 - loss: 1.7809 - val_accuracy: 0.1176 - val_loss: 1.8015\n",
            "Epoch 5/50\n",
            "\u001b[1m3/3\u001b[0m \u001b[32m━━━━━━━━━━━━━━━━━━━━\u001b[0m\u001b[37m\u001b[0m \u001b[1m82s\u001b[0m 14s/step - accuracy: 0.1911 - loss: 1.7693 - val_accuracy: 0.0588 - val_loss: 1.7879\n",
            "Epoch 6/50\n",
            "\u001b[1m3/3\u001b[0m \u001b[32m━━━━━━━━━━━━━━━━━━━━\u001b[0m\u001b[37m\u001b[0m \u001b[1m82s\u001b[0m 15s/step - accuracy: 0.2828 - loss: 1.7356 - val_accuracy: 0.0588 - val_loss: 1.7573\n",
            "Epoch 7/50\n",
            "\u001b[1m3/3\u001b[0m \u001b[32m━━━━━━━━━━━━━━━━━━━━\u001b[0m\u001b[37m\u001b[0m \u001b[1m82s\u001b[0m 14s/step - accuracy: 0.2405 - loss: 1.6672 - val_accuracy: 0.0588 - val_loss: 2.0578\n",
            "Epoch 8/50\n",
            "\u001b[1m3/3\u001b[0m \u001b[32m━━━━━━━━━━━━━━━━━━━━\u001b[0m\u001b[37m\u001b[0m \u001b[1m81s\u001b[0m 14s/step - accuracy: 0.2021 - loss: 1.6863 - val_accuracy: 0.0588 - val_loss: 1.7135\n",
            "Epoch 9/50\n",
            "\u001b[1m3/3\u001b[0m \u001b[32m━━━━━━━━━━━━━━━━━━━━\u001b[0m\u001b[37m\u001b[0m \u001b[1m81s\u001b[0m 14s/step - accuracy: 0.3130 - loss: 1.5946 - val_accuracy: 0.1176 - val_loss: 1.7060\n",
            "Epoch 10/50\n",
            "\u001b[1m3/3\u001b[0m \u001b[32m━━━━━━━━━━━━━━━━━━━━\u001b[0m\u001b[37m\u001b[0m \u001b[1m49s\u001b[0m 15s/step - accuracy: 0.3513 - loss: 1.5162 - val_accuracy: 0.1176 - val_loss: 1.7306\n",
            "Epoch 11/50\n",
            "\u001b[1m3/3\u001b[0m \u001b[32m━━━━━━━━━━━━━━━━━━━━\u001b[0m\u001b[37m\u001b[0m \u001b[1m80s\u001b[0m 13s/step - accuracy: 0.3627 - loss: 1.4964 - val_accuracy: 0.1176 - val_loss: 1.7174\n",
            "Epoch 12/50\n",
            "\u001b[1m3/3\u001b[0m \u001b[32m━━━━━━━━━━━━━━━━━━━━\u001b[0m\u001b[37m\u001b[0m \u001b[1m83s\u001b[0m 14s/step - accuracy: 0.3861 - loss: 1.4592 - val_accuracy: 0.1176 - val_loss: 1.7033\n",
            "Epoch 13/50\n",
            "\u001b[1m3/3\u001b[0m \u001b[32m━━━━━━━━━━━━━━━━━━━━\u001b[0m\u001b[37m\u001b[0m \u001b[1m82s\u001b[0m 13s/step - accuracy: 0.3549 - loss: 1.4940 - val_accuracy: 0.1176 - val_loss: 1.7041\n",
            "Epoch 14/50\n",
            "\u001b[1m3/3\u001b[0m \u001b[32m━━━━━━━━━━━━━━━━━━━━\u001b[0m\u001b[37m\u001b[0m \u001b[1m83s\u001b[0m 14s/step - accuracy: 0.3510 - loss: 1.5189 - val_accuracy: 0.1176 - val_loss: 1.7058\n",
            "Epoch 15/50\n",
            "\u001b[1m3/3\u001b[0m \u001b[32m━━━━━━━━━━━━━━━━━━━━\u001b[0m\u001b[37m\u001b[0m \u001b[1m81s\u001b[0m 14s/step - accuracy: 0.3705 - loss: 1.4761 - val_accuracy: 0.1176 - val_loss: 1.7069\n",
            "Epoch 16/50\n",
            "\u001b[1m3/3\u001b[0m \u001b[32m━━━━━━━━━━━━━━━━━━━━\u001b[0m\u001b[37m\u001b[0m \u001b[1m82s\u001b[0m 14s/step - accuracy: 0.3666 - loss: 1.4740 - val_accuracy: 0.1176 - val_loss: 1.7074\n",
            "Epoch 17/50\n",
            "\u001b[1m3/3\u001b[0m \u001b[32m━━━━━━━━━━━━━━━━━━━━\u001b[0m\u001b[37m\u001b[0m \u001b[1m83s\u001b[0m 15s/step - accuracy: 0.3354 - loss: 1.4988 - val_accuracy: 0.1176 - val_loss: 1.6995\n",
            "Epoch 18/50\n",
            "\u001b[1m3/3\u001b[0m \u001b[32m━━━━━━━━━━━━━━━━━━━━\u001b[0m\u001b[37m\u001b[0m \u001b[1m81s\u001b[0m 15s/step - accuracy: 0.3861 - loss: 1.4759 - val_accuracy: 0.1176 - val_loss: 1.6971\n",
            "Epoch 19/50\n",
            "\u001b[1m3/3\u001b[0m \u001b[32m━━━━━━━━━━━━━━━━━━━━\u001b[0m\u001b[37m\u001b[0m \u001b[1m49s\u001b[0m 14s/step - accuracy: 0.3666 - loss: 1.4515 - val_accuracy: 0.1176 - val_loss: 1.7658\n",
            "Epoch 20/50\n",
            "\u001b[1m3/3\u001b[0m \u001b[32m━━━━━━━━━━━━━━━━━━━━\u001b[0m\u001b[37m\u001b[0m \u001b[1m80s\u001b[0m 13s/step - accuracy: 0.3822 - loss: 1.4797 - val_accuracy: 0.1765 - val_loss: 1.6772\n",
            "Epoch 21/50\n",
            "\u001b[1m3/3\u001b[0m \u001b[32m━━━━━━━━━━━━━━━━━━━━\u001b[0m\u001b[37m\u001b[0m \u001b[1m49s\u001b[0m 14s/step - accuracy: 0.3247 - loss: 1.5256 - val_accuracy: 0.1176 - val_loss: 1.6604\n",
            "Epoch 22/50\n",
            "\u001b[1m3/3\u001b[0m \u001b[32m━━━━━━━━━━━━━━━━━━━━\u001b[0m\u001b[37m\u001b[0m \u001b[1m80s\u001b[0m 13s/step - accuracy: 0.3279 - loss: 1.4555 - val_accuracy: 0.1176 - val_loss: 1.6393\n",
            "Epoch 23/50\n",
            "\u001b[1m3/3\u001b[0m \u001b[32m━━━━━━━━━━━━━━━━━━━━\u001b[0m\u001b[37m\u001b[0m \u001b[1m84s\u001b[0m 14s/step - accuracy: 0.3705 - loss: 1.4039 - val_accuracy: 0.2941 - val_loss: 1.6093\n",
            "Epoch 24/50\n",
            "\u001b[1m3/3\u001b[0m \u001b[32m━━━━━━━━━━━━━━━━━━━━\u001b[0m\u001b[37m\u001b[0m \u001b[1m82s\u001b[0m 15s/step - accuracy: 0.2938 - loss: 1.5403 - val_accuracy: 0.2353 - val_loss: 1.6370\n",
            "Epoch 25/50\n",
            "\u001b[1m3/3\u001b[0m \u001b[32m━━━━━━━━━━━━━━━━━━━━\u001b[0m\u001b[37m\u001b[0m \u001b[1m47s\u001b[0m 13s/step - accuracy: 0.3016 - loss: 1.4356 - val_accuracy: 0.2941 - val_loss: 1.6754\n",
            "Epoch 26/50\n",
            "\u001b[1m3/3\u001b[0m \u001b[32m━━━━━━━━━━━━━━━━━━━━\u001b[0m\u001b[37m\u001b[0m \u001b[1m84s\u001b[0m 14s/step - accuracy: 0.2632 - loss: 1.4400 - val_accuracy: 0.3529 - val_loss: 1.6318\n",
            "Epoch 27/50\n",
            "\u001b[1m3/3\u001b[0m \u001b[32m━━━━━━━━━━━━━━━━━━━━\u001b[0m\u001b[37m\u001b[0m \u001b[1m49s\u001b[0m 14s/step - accuracy: 0.4011 - loss: 1.3892 - val_accuracy: 0.1765 - val_loss: 1.6068\n",
            "Epoch 28/50\n",
            "\u001b[1m3/3\u001b[0m \u001b[32m━━━━━━━━━━━━━━━━━━━━\u001b[0m\u001b[37m\u001b[0m \u001b[1m81s\u001b[0m 13s/step - accuracy: 0.4007 - loss: 1.3778 - val_accuracy: 0.1765 - val_loss: 1.6423\n",
            "Epoch 29/50\n",
            "\u001b[1m3/3\u001b[0m \u001b[32m━━━━━━━━━━━━━━━━━━━━\u001b[0m\u001b[37m\u001b[0m \u001b[1m80s\u001b[0m 13s/step - accuracy: 0.4469 - loss: 1.4071 - val_accuracy: 0.1765 - val_loss: 1.6336\n",
            "Epoch 30/50\n",
            "\u001b[1m3/3\u001b[0m \u001b[32m━━━━━━━━━━━━━━━━━━━━\u001b[0m\u001b[37m\u001b[0m \u001b[1m82s\u001b[0m 13s/step - accuracy: 0.4583 - loss: 1.3202 - val_accuracy: 0.1765 - val_loss: 1.6686\n",
            "Epoch 31/50\n",
            "\u001b[1m3/3\u001b[0m \u001b[32m━━━━━━━━━━━━━━━━━━━━\u001b[0m\u001b[37m\u001b[0m \u001b[1m82s\u001b[0m 13s/step - accuracy: 0.4245 - loss: 1.3224 - val_accuracy: 0.2941 - val_loss: 1.9842\n",
            "Epoch 32/50\n",
            "\u001b[1m3/3\u001b[0m \u001b[32m━━━━━━━━━━━━━━━━━━━━\u001b[0m\u001b[37m\u001b[0m \u001b[1m49s\u001b[0m 14s/step - accuracy: 0.3972 - loss: 1.3116 - val_accuracy: 0.2941 - val_loss: 1.8037\n",
            "Epoch 33/50\n",
            "\u001b[1m3/3\u001b[0m \u001b[32m━━━━━━━━━━━━━━━━━━━━\u001b[0m\u001b[37m\u001b[0m \u001b[1m82s\u001b[0m 15s/step - accuracy: 0.5542 - loss: 1.1831 - val_accuracy: 0.2941 - val_loss: 1.6942\n",
            "Epoch 34/50\n",
            "\u001b[1m3/3\u001b[0m \u001b[32m━━━━━━━━━━━━━━━━━━━━\u001b[0m\u001b[37m\u001b[0m \u001b[1m82s\u001b[0m 15s/step - accuracy: 0.4888 - loss: 1.2403 - val_accuracy: 0.2941 - val_loss: 1.6690\n",
            "Epoch 35/50\n",
            "\u001b[1m3/3\u001b[0m \u001b[32m━━━━━━━━━━━━━━━━━━━━\u001b[0m\u001b[37m\u001b[0m \u001b[1m82s\u001b[0m 15s/step - accuracy: 0.5233 - loss: 1.2518 - val_accuracy: 0.2941 - val_loss: 1.7580\n",
            "Epoch 36/50\n",
            "\u001b[1m3/3\u001b[0m \u001b[32m━━━━━━━━━━━━━━━━━━━━\u001b[0m\u001b[37m\u001b[0m \u001b[1m80s\u001b[0m 14s/step - accuracy: 0.5073 - loss: 1.1980 - val_accuracy: 0.2941 - val_loss: 1.9827\n",
            "Epoch 37/50\n",
            "\u001b[1m3/3\u001b[0m \u001b[32m━━━━━━━━━━━━━━━━━━━━\u001b[0m\u001b[37m\u001b[0m \u001b[1m83s\u001b[0m 14s/step - accuracy: 0.5417 - loss: 1.1602 - val_accuracy: 0.2941 - val_loss: 2.1256\n",
            "Epoch 38/50\n",
            "\u001b[1m3/3\u001b[0m \u001b[32m━━━━━━━━━━━━━━━━━━━━\u001b[0m\u001b[37m\u001b[0m \u001b[1m83s\u001b[0m 13s/step - accuracy: 0.5424 - loss: 1.1549 - val_accuracy: 0.3529 - val_loss: 2.2373\n",
            "Epoch 39/50\n",
            "\u001b[1m3/3\u001b[0m \u001b[32m━━━━━━━━━━━━━━━━━━━━\u001b[0m\u001b[37m\u001b[0m \u001b[1m80s\u001b[0m 12s/step - accuracy: 0.5460 - loss: 1.0983 - val_accuracy: 0.2941 - val_loss: 2.0717\n",
            "Epoch 40/50\n",
            "\u001b[1m3/3\u001b[0m \u001b[32m━━━━━━━━━━━━━━━━━━━━\u001b[0m\u001b[37m\u001b[0m \u001b[1m82s\u001b[0m 13s/step - accuracy: 0.5037 - loss: 1.1668 - val_accuracy: 0.3529 - val_loss: 1.6897\n",
            "Epoch 41/50\n",
            "\u001b[1m3/3\u001b[0m \u001b[32m━━━━━━━━━━━━━━━━━━━━\u001b[0m\u001b[37m\u001b[0m \u001b[1m85s\u001b[0m 14s/step - accuracy: 0.6146 - loss: 1.1841 - val_accuracy: 0.2941 - val_loss: 2.2336\n",
            "Epoch 42/50\n",
            "\u001b[1m3/3\u001b[0m \u001b[32m━━━━━━━━━━━━━━━━━━━━\u001b[0m\u001b[37m\u001b[0m \u001b[1m49s\u001b[0m 14s/step - accuracy: 0.4732 - loss: 1.1690 - val_accuracy: 0.2353 - val_loss: 3.9670\n",
            "Epoch 43/50\n",
            "\u001b[1m3/3\u001b[0m \u001b[32m━━━━━━━━━━━━━━━━━━━━\u001b[0m\u001b[37m\u001b[0m \u001b[1m83s\u001b[0m 14s/step - accuracy: 0.4192 - loss: 1.3301 - val_accuracy: 0.2353 - val_loss: 1.7347\n",
            "Epoch 44/50\n",
            "\u001b[1m3/3\u001b[0m \u001b[32m━━━━━━━━━━━━━━━━━━━━\u001b[0m\u001b[37m\u001b[0m \u001b[1m47s\u001b[0m 14s/step - accuracy: 0.5499 - loss: 1.0944 - val_accuracy: 0.3529 - val_loss: 1.5186\n",
            "Epoch 45/50\n",
            "\u001b[1m3/3\u001b[0m \u001b[32m━━━━━━━━━━━━━━━━━━━━\u001b[0m\u001b[37m\u001b[0m \u001b[1m47s\u001b[0m 13s/step - accuracy: 0.3780 - loss: 1.2734 - val_accuracy: 0.2941 - val_loss: 1.6002\n",
            "Epoch 46/50\n",
            "\u001b[1m3/3\u001b[0m \u001b[32m━━━━━━━━━━━━━━━━━━━━\u001b[0m\u001b[37m\u001b[0m \u001b[1m83s\u001b[0m 14s/step - accuracy: 0.5158 - loss: 1.2451 - val_accuracy: 0.3529 - val_loss: 1.7023\n",
            "Epoch 47/50\n",
            "\u001b[1m3/3\u001b[0m \u001b[32m━━━━━━━━━━━━━━━━━━━━\u001b[0m\u001b[37m\u001b[0m \u001b[1m84s\u001b[0m 14s/step - accuracy: 0.4881 - loss: 1.3307 - val_accuracy: 0.2941 - val_loss: 2.0215\n",
            "Epoch 48/50\n",
            "\u001b[1m3/3\u001b[0m \u001b[32m━━━━━━━━━━━━━━━━━━━━\u001b[0m\u001b[37m\u001b[0m \u001b[1m48s\u001b[0m 14s/step - accuracy: 0.4082 - loss: 1.3119 - val_accuracy: 0.2941 - val_loss: 3.1603\n",
            "Epoch 49/50\n",
            "\u001b[1m3/3\u001b[0m \u001b[32m━━━━━━━━━━━━━━━━━━━━\u001b[0m\u001b[37m\u001b[0m \u001b[1m82s\u001b[0m 13s/step - accuracy: 0.4345 - loss: 1.2846 - val_accuracy: 0.2941 - val_loss: 2.1345\n",
            "Epoch 50/50\n",
            "\u001b[1m3/3\u001b[0m \u001b[32m━━━━━━━━━━━━━━━━━━━━\u001b[0m\u001b[37m\u001b[0m \u001b[1m80s\u001b[0m 12s/step - accuracy: 0.4050 - loss: 1.3001 - val_accuracy: 0.2941 - val_loss: 2.1553\n",
            "\u001b[1m1/1\u001b[0m \u001b[32m━━━━━━━━━━━━━━━━━━━━\u001b[0m\u001b[37m\u001b[0m \u001b[1m5s\u001b[0m 5s/step - accuracy: 0.2941 - loss: 2.1553\n",
            "độ chính xác : 29%\n"
          ]
        }
      ]
    },
    {
      "cell_type": "code",
      "source": [
        "model.save('hoa.h5')"
      ],
      "metadata": {
        "id": "Kyvj9BqLgzaw",
        "colab": {
          "base_uri": "https://localhost:8080/"
        },
        "outputId": "ca2b2e01-c863-4bf6-c0a3-2f9027cdfeb6"
      },
      "execution_count": null,
      "outputs": [
        {
          "output_type": "stream",
          "name": "stderr",
          "text": [
            "WARNING:absl:You are saving your model as an HDF5 file via `model.save()` or `keras.saving.save_model(model)`. This file format is considered legacy. We recommend using instead the native Keras format, e.g. `model.save('my_model.keras')` or `keras.saving.save_model(model, 'my_model.keras')`. \n"
          ]
        }
      ]
    },
    {
      "cell_type": "code",
      "source": [
        "import tensorflow as tf\n",
        "from tensorflow.keras.preprocessing import image\n",
        "import numpy as np\n",
        "\n",
        "# Load mô hình đã lưu\n",
        "model = tf.keras.models.load_model('/content/hoa.h5')\n",
        "\n",
        "# Define class_labels manually, since train_generator is not used\n",
        "# Assuming your label_map from previous code is: {'hoa hong': 0, 'hoa cuc': 1, 'hoa ly': 2, 'hoa mai': 3, 'hoa sen': 4, 'hoa lan': 5}\n",
        "class_labels = {0: 'hoa hong', 1: 'hoa cuc', 2: 'hoa ly', 3: 'hoa mai', 4: 'hoa sen', 5: 'hoa lan'}\n",
        "\n",
        "def predict_image(img_path):\n",
        "    # Load và tiền xử lý ảnh\n",
        "    img = image.load_img(img_path, target_size=(128, 128))\n",
        "    img_array = image.img_to_array(img) / 255.0  # Chuẩn hóa về [0, 1]\n",
        "    img_array = np.expand_dims(img_array, axis=0)  # Mở rộng chiều batch\n",
        "\n",
        "    # Dự đoán\n",
        "    predictions = model.predict(img_array)\n",
        "    predicted_class = np.argmax(predictions)  # Lấy lớp có xác suất cao nhất\n",
        "    predicted_label = class_labels[predicted_class]  # Lấy tên lớp\n",
        "\n",
        "    # In kết quả\n",
        "    print(f'Ảnh: {img_path}')\n",
        "    print(f'Dự đoán: {predicted_label}')\n",
        "\n",
        "# Dùng hàm để dự đoán ảnh mới\n",
        "image_path = '/content/13.jpg'  # Đường dẫn ảnh mới\n",
        "# pyplot.imshow(image.load_img(image_path)) # Assuming pyplot is imported and available\n",
        "predict_image(image_path)"
      ],
      "metadata": {
        "id": "4Abll2CcRscd",
        "colab": {
          "base_uri": "https://localhost:8080/"
        },
        "outputId": "bf743d04-9038-44e1-e5bf-213166ea7fe5"
      },
      "execution_count": null,
      "outputs": [
        {
          "output_type": "stream",
          "name": "stderr",
          "text": [
            "WARNING:absl:Compiled the loaded model, but the compiled metrics have yet to be built. `model.compile_metrics` will be empty until you train or evaluate the model.\n"
          ]
        },
        {
          "output_type": "stream",
          "name": "stdout",
          "text": [
            "\u001b[1m1/1\u001b[0m \u001b[32m━━━━━━━━━━━━━━━━━━━━\u001b[0m\u001b[37m\u001b[0m \u001b[1m0s\u001b[0m 302ms/step\n",
            "Ảnh: /content/13.jpg\n",
            "Dự đoán: hoa sen\n"
          ]
        }
      ]
    }
  ]
}